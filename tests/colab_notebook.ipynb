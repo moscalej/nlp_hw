{
 "cells": [
  {
   "cell_type": "code",
   "execution_count": null,
   "metadata": {
    "collapsed": true
   },
   "outputs": [],
   "source": [
    "import time\n",
    "import unittest\n",
    "\n",
    "import pandas as pd\n",
    "import yaml\n",
    "\n",
    "import features as feat\n",
    "from models.features import Features\n",
    "from models.model import Model\n",
    "from models.prerocesing import PreprocessTags\n",
    "from models.sentence_processor import FinkMos\n",
    "\n"
   ]
  },
  {
   "cell_type": "code",
   "execution_count": null,
   "metadata": {},
   "outputs": [],
   "source": [
    "data = PreprocessTags(True).load_data(\n",
    "            r'..\\data\\train.wtag')\n",
    "word_num = 150_000\n",
    "tag_corp = pd.Series(data.y[0:word_num]).unique()\n",
    "# generate tests - (comment out if file is updated)\n",
    "feat_generator = Features()\n",
    "feat_generator.generate_tuple_corpus(data.x[0:word_num], data.y[0:word_num])\n",
    "for template in feat.templates_dict.values():\n",
    "feat_generator.generate_lambdas(template['func'], template['tuples'])\n",
    "feat_generator.save_tests()\n",
    "\n",
    "fm = FinkMos(data.x[0:word_num], data.y[0:word_num], tag_corp)\n",
    "fm.create_tuples()\n",
    "print(\"fm.weight_mat\")\n",
    "print(fm.weight_mat)\n",
    "print(\"fm.tuple_5_list\")\n",
    "print(fm.tuple_5_list)\n",
    "fm.create_feature_sparse_list_v2()\n",
    "# print(len(fm.f_matrix_list))\n",
    "print(fm.f_matrix_list[0].shape)\n",
    "fm.minimize_loss()\n"
   ]
  }
 ],
 "metadata": {
  "kernelspec": {
   "display_name": "Python 2",
   "language": "python",
   "name": "python2"
  },
  "language_info": {
   "codemirror_mode": {
    "name": "ipython",
    "version": 2
   },
   "file_extension": ".py",
   "mimetype": "text/x-python",
   "name": "python",
   "nbconvert_exporter": "python",
   "pygments_lexer": "ipython2",
   "version": "2.7.6"
  }
 },
 "nbformat": 4,
 "nbformat_minor": 0
}
